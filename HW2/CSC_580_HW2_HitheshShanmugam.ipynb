{
 "cells": [
  {
   "cell_type": "markdown",
   "metadata": {
    "pycharm": {
     "name": "#%% md\n"
    }
   },
   "source": [
    "# CSC 580\n",
    "# Hithesh Shanmugam\n",
    "# Assignment 2"
   ]
  },
  {
   "cell_type": "code",
   "execution_count": 1,
   "metadata": {
    "colab": {
     "base_uri": "https://localhost:8080/"
    },
    "id": "iw3cof2pQCSc",
    "outputId": "fc0f8c94-99c6-40e2-e072-d748a20dc6e5",
    "pycharm": {
     "name": "#%%\n"
    }
   },
   "outputs": [
    {
     "name": "stdout",
     "output_type": "stream",
     "text": [
      "Looking in indexes: https://pypi.org/simple, https://us-python.pkg.dev/colab-wheels/public/simple/\n",
      "Collecting gymnasium\n",
      "  Downloading gymnasium-0.27.0-py3-none-any.whl (879 kB)\n",
      "\u001B[2K     \u001B[90m━━━━━━━━━━━━━━━━━━━━━━━━━━━━━━━━━━━━━━\u001B[0m \u001B[32m879.1/879.1 KB\u001B[0m \u001B[31m19.4 MB/s\u001B[0m eta \u001B[36m0:00:00\u001B[0m\n",
      "\u001B[?25hCollecting shimmy<1.0,>=0.1.0\n",
      "  Downloading Shimmy-0.2.0-py3-none-any.whl (25 kB)\n",
      "Requirement already satisfied: importlib-metadata>=4.8.0 in /usr/local/lib/python3.8/dist-packages (from gymnasium) (6.0.0)\n",
      "Requirement already satisfied: typing-extensions>=4.3.0 in /usr/local/lib/python3.8/dist-packages (from gymnasium) (4.4.0)\n",
      "Requirement already satisfied: numpy>=1.21.0 in /usr/local/lib/python3.8/dist-packages (from gymnasium) (1.21.6)\n",
      "Collecting jax-jumpy>=0.2.0\n",
      "  Downloading jax_jumpy-0.2.0-py3-none-any.whl (11 kB)\n",
      "Requirement already satisfied: cloudpickle>=1.2.0 in /usr/local/lib/python3.8/dist-packages (from gymnasium) (2.2.0)\n",
      "Collecting gymnasium-notices>=0.0.1\n",
      "  Downloading gymnasium_notices-0.0.1-py3-none-any.whl (2.8 kB)\n",
      "Requirement already satisfied: zipp>=0.5 in /usr/local/lib/python3.8/dist-packages (from importlib-metadata>=4.8.0->gymnasium) (3.11.0)\n",
      "Installing collected packages: gymnasium-notices, jax-jumpy, shimmy, gymnasium\n",
      "Successfully installed gymnasium-0.27.0 gymnasium-notices-0.0.1 jax-jumpy-0.2.0 shimmy-0.2.0\n"
     ]
    }
   ],
   "source": [
    "!pip install gymnasium"
   ]
  },
  {
   "cell_type": "code",
   "execution_count": 2,
   "metadata": {
    "colab": {
     "base_uri": "https://localhost:8080/"
    },
    "id": "sbuWaxiMQCVG",
    "outputId": "7600fa20-ce69-4075-826a-47494de50f1d",
    "pycharm": {
     "name": "#%%\n"
    }
   },
   "outputs": [
    {
     "name": "stdout",
     "output_type": "stream",
     "text": [
      "\n",
      "\u001B[41mS\u001B[0mFFFFFFF\n",
      "FFFFFFFF\n",
      "FFFHFFFF\n",
      "FFFFFHFF\n",
      "FFFHFFFF\n",
      "FHHFFFHF\n",
      "FHFFHFHF\n",
      "FFFHFFFG\n",
      "\n"
     ]
    }
   ],
   "source": [
    "import gymnasium as gym\n",
    "import numpy as np \n",
    "import matplotlib.pyplot as plt #importing library for plotting histogram\n",
    "\n",
    "# Create a FrozenLake 8x8 environment using OpenAI/Gymnasium\n",
    "env = gym.make('FrozenLake-v1', desc=None, map_name=\"8x8\", is_slippery=True, render_mode=\"ansi\")\n",
    "\n",
    "# Reset the environment and display it (in ansi ascii)\n",
    "env.reset()\n",
    "print (env.render())  # wrap render() in print()"
   ]
  },
  {
   "cell_type": "code",
   "execution_count": 3,
   "metadata": {
    "colab": {
     "base_uri": "https://localhost:8080/"
    },
    "id": "wLwhhIzOQCX6",
    "outputId": "552e5c92-de9c-4660-f436-cc8dc7866179",
    "pycharm": {
     "name": "#%%\n"
    }
   },
   "outputs": [
    {
     "name": "stdout",
     "output_type": "stream",
     "text": [
      "64, 4\n"
     ]
    }
   ],
   "source": [
    "nS = env.observation_space.n    # number of states -- 8x8=64\n",
    "nA = env.action_space.n         # number of actions -- four directions; 0:left, 1:down, 2:right, 3:up\n",
    "print (\"{}, {}\".format(nS, nA))"
   ]
  },
  {
   "cell_type": "code",
   "execution_count": 4,
   "metadata": {
    "colab": {
     "base_uri": "https://localhost:8080/"
    },
    "id": "1dolLMz3Qm89",
    "outputId": "e932d3b3-2fce-4082-feeb-520c28a7a2ce",
    "pycharm": {
     "name": "#%%\n"
    }
   },
   "outputs": [
    {
     "data": {
      "text/plain": [
       "{0: [(0.3333333333333333, 0, 0.0, False),\n",
       "  (0.3333333333333333, 0, 0.0, False),\n",
       "  (0.3333333333333333, 8, 0.0, False)],\n",
       " 1: [(0.3333333333333333, 0, 0.0, False),\n",
       "  (0.3333333333333333, 8, 0.0, False),\n",
       "  (0.3333333333333333, 1, 0.0, False)],\n",
       " 2: [(0.3333333333333333, 8, 0.0, False),\n",
       "  (0.3333333333333333, 1, 0.0, False),\n",
       "  (0.3333333333333333, 0, 0.0, False)],\n",
       " 3: [(0.3333333333333333, 1, 0.0, False),\n",
       "  (0.3333333333333333, 0, 0.0, False),\n",
       "  (0.3333333333333333, 0, 0.0, False)]}"
      ]
     },
     "execution_count": 4,
     "metadata": {},
     "output_type": "execute_result"
    }
   ],
   "source": [
    "# Probatilies from State 0\n",
    "env.P[0]"
   ]
  },
  {
   "cell_type": "code",
   "execution_count": 5,
   "metadata": {
    "colab": {
     "base_uri": "https://localhost:8080/"
    },
    "id": "5BPKW1wnQooK",
    "outputId": "38b682f5-4172-4622-eaf5-ae3defabde83",
    "pycharm": {
     "name": "#%%\n"
    }
   },
   "outputs": [
    {
     "data": {
      "text/plain": [
       "{0: [(0.3333333333333333, 54, 0.0, True),\n",
       "  (0.3333333333333333, 61, 0.0, False),\n",
       "  (0.3333333333333333, 62, 0.0, False)],\n",
       " 1: [(0.3333333333333333, 61, 0.0, False),\n",
       "  (0.3333333333333333, 62, 0.0, False),\n",
       "  (0.3333333333333333, 63, 1.0, True)],\n",
       " 2: [(0.3333333333333333, 62, 0.0, False),\n",
       "  (0.3333333333333333, 63, 1.0, True),\n",
       "  (0.3333333333333333, 54, 0.0, True)],\n",
       " 3: [(0.3333333333333333, 63, 1.0, True),\n",
       "  (0.3333333333333333, 54, 0.0, True),\n",
       "  (0.3333333333333333, 61, 0.0, False)]}"
      ]
     },
     "execution_count": 5,
     "metadata": {},
     "output_type": "execute_result"
    }
   ],
   "source": [
    "# Probatilies from State 62 (left of the Goal state)\n",
    "env.P[62]"
   ]
  },
  {
   "cell_type": "markdown",
   "metadata": {
    "id": "Qlx3vHW2QvMd",
    "pycharm": {
     "name": "#%% md\n"
    }
   },
   "source": [
    "**** Functions to create a fixed deterministic policy, and to run one experiment for a given number of episodes**"
   ]
  },
  {
   "cell_type": "code",
   "execution_count": 11,
   "metadata": {
    "id": "NVnSvwpuQtBD",
    "pycharm": {
     "name": "#%%\n"
    }
   },
   "outputs": [],
   "source": [
    "def generate_random_policy(num_actions, num_states, seed=None):\n",
    "    \"\"\"\n",
    "    A policy is a 1D array of length # of states, where each element is a\n",
    "    number between 0 (inclusive) and # of actions (exclusive) randomly chosen.\n",
    "    If a specific seed is passed, the same numbers are genereated, while\n",
    "    if the seed is None, the numbers are unpredictable every time.\n",
    "    \"\"\"\n",
    "    rng = np.random.default_rng(seed)\n",
    "    return rng.integers(low=0, high=num_actions, size=num_states)\n",
    "\n",
    "\n",
    "def run_oneexperiment(env, policy, num_episodes, display=False):\n",
    "    \"\"\"\n",
    "    Run one experiment, when agent follows a policy, for a given number of episodes.\n",
    "    \"\"\"    \n",
    "    # Count the number of goals made and getting stuck in a hole\n",
    "    goals = 0\n",
    "    holes = 0\n",
    "    # Total rewards and steps\n",
    "    total_rewards = 0\n",
    "    total_goal_steps = 0\n",
    "    goal_reached = [] #initializing an empty list to keep track whether it reached the goal\n",
    "    successful_runs=[] #initializing an empty list to keep track of the successful runs\n",
    "    stepss=[] #initializing an empty list to keep track of the steps\n",
    "    number_of_exp=100 #for 100 experiments\n",
    "\n",
    "    \n",
    "    for _ in range(number_of_exp):\n",
    "        # For each time,\n",
    "        env.reset()\n",
    "        done = False\n",
    "        rewards = 0\n",
    "        steps = 0\n",
    "        episode_number = 1 # assigning a variable for checking the episode number\n",
    "\n",
    "        if display:\n",
    "            episode = [(env.env.s)] # initial state (in a tuple)\n",
    "\n",
    "        while not done:\n",
    "          for j in range(num_episodes):#making it run for number of episodes\n",
    "            # choose the action based on the policy\n",
    "            state = env.s\n",
    "            action = policy[state]\n",
    "\n",
    "            # take the action\n",
    "            next_state, reward, done, info, p = env.step(action)\n",
    "            steps += 1\n",
    "            episode_number += 1# incrementing the episode number\n",
    "\n",
    "            # extend the episode\n",
    "            if display:\n",
    "                episode.append(tuple([action,next_state]))\n",
    "            # accumulate rewards\n",
    "            rewards += reward\n",
    "        \n",
    "            # Calculate stats\n",
    "            total_rewards += rewards\n",
    "            if reward == 1.0: # Goal, or env.s == 63\n",
    "              goals += 1\n",
    "              total_goal_steps += steps\n",
    "              goal_reached.append(episode_number)#appending which episode number is successful\n",
    "              successful_runs.append(1)# appending 1 if the reward is 1.0\n",
    "              stepss.append(episode_number)#appending the episode number in the steps to calculate the average steps\n",
    "            else:\n",
    "              holes += 1\n",
    "              successful_runs.append(0)#appending 0 if the reward is not 1.0\n",
    "            # Display\n",
    "            if display:\n",
    "              print (env.render())\n",
    "\n",
    "    # Compute the mean and standard deviation of the number of successful runs\n",
    "    mean_successful_runs = np.mean(successful_runs)#calculating and storing the mean\n",
    "    stdev_successful_runs = np.std(successful_runs)#calculating and storing the standard deviation\n",
    "\n",
    "    # Compute the average number of steps that took to reach the goal\n",
    "    average_steps = np.mean(stepss)#calculating the average number of steps\n",
    "\n",
    "    # Print the results\n",
    "    print(f'Mean successful runs: {mean_successful_runs}')#printing mean\n",
    "    print(f'Standard deviation of successful runs: {stdev_successful_runs}')#printing standard deviation\n",
    "    print(f'Average number of steps that took to reach the goal: {average_steps}')#printing the average number of steps\n",
    "\n",
    "    # One experiment finished,\n",
    "    return goals, holes, total_rewards, total_goal_steps,goal_reached# additionaly returning goal_reached to calculate the histogram"
   ]
  },
  {
   "cell_type": "markdown",
   "metadata": {
    "id": "YI0UpgmAQ75-",
    "pycharm": {
     "name": "#%% md\n"
    }
   },
   "source": [
    "**100 experiment run**"
   ]
  },
  {
   "cell_type": "markdown",
   "metadata": {
    "pycharm": {
     "name": "#%% md\n"
    }
   },
   "source": [
    "## Part 1\n",
    "### Seed =17"
   ]
  },
  {
   "cell_type": "code",
   "execution_count": 13,
   "metadata": {
    "colab": {
     "base_uri": "https://localhost:8080/"
    },
    "id": "p-cJav5TQoq_",
    "outputId": "3d0cb942-8740-46cb-b4ba-97f50564c778",
    "pycharm": {
     "name": "#%%\n"
    }
   },
   "outputs": [
    {
     "name": "stdout",
     "output_type": "stream",
     "text": [
      "*** Policy ***\n",
      "[2 3 0 0 1 2 3 1 0 0 1 1 3 1 2 2 0 2 0 0 2 1 1 2 0 0 2 3 2 3 1 0 2 2 2 2 1\n",
      " 0 2 0 1 0 2 1 1 2 0 1 2 3 0 3 1 1 3 0 0 1 2 3 1 1 3 3]\n",
      "Mean successful runs: 1e-06\n",
      "Standard deviation of successful runs: 0.0009999994999998747\n",
      "Average number of steps that took to reach the goal: 59.0\n",
      "\n",
      "*** RESULTS ***:\n",
      "Goals:     1/1000000 =  1.000%\n",
      "Holes: 999999/1000000 = 999999.000%\n",
      "mean reward:          99.43000\n",
      "mean goal steps:     58.00\n"
     ]
    }
   ],
   "source": [
    "policy1 = generate_random_policy(nA, nS, 17) # change seed to a specific number, or None (default)\n",
    "print (\"*** Policy ***\\n{}\".format(policy1))\n",
    "num_episodes = 10000\n",
    "num_experiments=100\n",
    "goals1, holes1, total_rewards1, total_goal_steps1,goal_reached1 \\\n",
    "    = run_oneexperiment(env, policy1, num_episodes)\n",
    "\n",
    "percent_goal1 = goals1 / num_episodes*num_experiments\n",
    "percent_hole1 = holes1 / num_episodes*num_experiments\n",
    "mean_reward1 = total_rewards1 / num_episodes*num_experiments\n",
    "mean_goal_steps1 = 0.0 if (goals1 == 0) else (total_goal_steps1 / goals1)\n",
    "\n",
    "print (\"\\n*** RESULTS ***:\\nGoals: {:>5d}/{} = {:>7.3%}\\nHoles: {:>5d}/{} = {:>7.3%}\"\n",
    "       .format(goals1, num_episodes, percent_goal1, holes1, num_episodes, percent_hole1))\n",
    "print(\"mean reward:          {:.5f}\\nmean goal steps:     {:.2f}\".format(mean_reward1, mean_goal_steps1))"
   ]
  },
  {
   "cell_type": "code",
   "execution_count": 39,
   "metadata": {
    "colab": {
     "base_uri": "https://localhost:8080/",
     "height": 295
    },
    "id": "TPIrFLq0mcEQ",
    "outputId": "714c259c-0ad9-4894-d923-90cb3207b1eb",
    "pycharm": {
     "name": "#%%\n"
    }
   },
   "outputs": [
    {
     "data": {
      "image/png": "[encoded data removed]",
      "text/plain": [
       "<Figure size 432x288 with 1 Axes>"
      ]
     },
     "metadata": {
      "needs_background": "light"
     },
     "output_type": "display_data"
    }
   ],
   "source": [
    "# using matplotlib to create a histogram\n",
    "plt.hist(goal_reached1,bins=10, edgecolor = \"black\")\n",
    "\n",
    "# add labels and title to the histogram\n",
    "plt.xlabel('Number of episodes')#giving label for the x axis\n",
    "plt.ylabel('Frequency')#giving label for the y axis\n",
    "plt.title('Frequency of goal reached in 8x8 FrozenLake gymnasium over 100 experiments')#giving the title for the plot\n",
    "# display the histogram\n",
    "plt.show()"
   ]
  },
  {
   "cell_type": "markdown",
   "metadata": {
    "pycharm": {
     "name": "#%% md\n"
    }
   },
   "source": [
    "### Seed=25"
   ]
  },
  {
   "cell_type": "code",
   "execution_count": 17,
   "metadata": {
    "colab": {
     "base_uri": "https://localhost:8080/"
    },
    "id": "j6yUdSid30oI",
    "outputId": "d82c7202-1920-4a17-ef42-f94cdc6375e7",
    "pycharm": {
     "name": "#%%\n"
    }
   },
   "outputs": [
    {
     "name": "stdout",
     "output_type": "stream",
     "text": [
      "*** Policy ***\n",
      "[2 0 3 0 0 0 2 1 0 0 2 0 1 3 2 3 2 0 0 0 0 3 0 3 1 1 0 3 1 0 2 2 1 2 2 3 1\n",
      " 1 3 1 1 1 2 0 1 2 3 2 2 2 1 2 2 2 0 0 0 1 1 1 3 0 1 2]\n",
      "Mean successful runs: 0.0\n",
      "Standard deviation of successful runs: 0.0\n",
      "Average number of steps that took to reach the goal: nan\n",
      "\n",
      "*** RESULTS ***:\n",
      "Goals:     0/1000000 =  0.000%\n",
      "Holes: 1000000/1000000 = 1000000.000%\n",
      "mean reward:          0.00000\n",
      "mean goal steps:     0.00\n"
     ]
    }
   ],
   "source": [
    "policy2 = generate_random_policy(nA, nS, 25) # change seed to a specific number, or None (default)\n",
    "print (\"*** Policy ***\\n{}\".format(policy2))\n",
    "num_episodes = 10000\n",
    "\n",
    "goals2, holes2, total_rewards2, total_goal_steps2,goal_reached2 \\\n",
    "    = run_oneexperiment(env, policy2, num_episodes)\n",
    "\n",
    "percent_goal2 = goals2 / num_episodes*num_experiments\n",
    "percent_hole2 = holes2 / num_episodes*num_experiments\n",
    "mean_reward2 = total_rewards2 / num_episodes*num_experiments\n",
    "mean_goal_steps2 = 0.0 if (goals2 == 0) else (total_goal_steps2 / goals2)\n",
    "\n",
    "print (\"\\n*** RESULTS ***:\\nGoals: {:>5d}/{} = {:>7.3%}\\nHoles: {:>5d}/{} = {:>7.3%}\"\n",
    "       .format(goals2, num_episodes, percent_goal2, holes2, num_episodes, percent_hole2))\n",
    "print(\"mean reward:          {:.5f}\\nmean goal steps:     {:.2f}\".format(mean_reward2, mean_goal_steps2))"
   ]
  },
  {
   "cell_type": "code",
   "execution_count": 38,
   "metadata": {
    "colab": {
     "base_uri": "https://localhost:8080/",
     "height": 295
    },
    "id": "_xL7yqnb5_d-",
    "outputId": "12673741-b381-44a4-ca02-57afa29aa2ea",
    "pycharm": {
     "name": "#%%\n"
    }
   },
   "outputs": [
    {
     "data": {
      "image/png": "[encoded data removed]",
      "text/plain": [
       "<Figure size 432x288 with 1 Axes>"
      ]
     },
     "metadata": {
      "needs_background": "light"
     },
     "output_type": "display_data"
    }
   ],
   "source": [
    "# using matplotlib to create a histogram\n",
    "plt.hist(goal_reached2,bins=10, edgecolor = \"black\")\n",
    "\n",
    "# add labels and title to the histogram\n",
    "plt.xlabel('Number of episodes')#giving label for the x axis\n",
    "plt.ylabel('Frequency')#giving label for the y axis\n",
    "plt.title('Frequency of goal reached in 8x8 FrozenLake gymnasium over 100 experiments')#giving the title for the plot\n",
    "# display the histogram\n",
    "plt.show()"
   ]
  },
  {
   "cell_type": "markdown",
   "metadata": {
    "pycharm": {
     "name": "#%% md\n"
    }
   },
   "source": [
    "### Seed =100"
   ]
  },
  {
   "cell_type": "code",
   "execution_count": 18,
   "metadata": {
    "colab": {
     "base_uri": "https://localhost:8080/"
    },
    "id": "Cez5_iuL3ypv",
    "outputId": "b5280da6-3833-4b4f-c7a4-6817d9c0c506",
    "pycharm": {
     "name": "#%%\n"
    }
   },
   "outputs": [
    {
     "name": "stdout",
     "output_type": "stream",
     "text": [
      "*** Policy ***\n",
      "[3 3 0 2 0 1 1 0 2 3 3 2 1 3 3 3 0 2 2 0 2 3 2 1 1 2 0 2 2 2 3 2 2 3 0 2 0\n",
      " 3 0 1 0 3 1 3 3 1 1 1 3 3 1 3 3 2 2 1 3 1 2 0 2 2 0 0]\n",
      "Mean successful runs: 0.0\n",
      "Standard deviation of successful runs: 0.0\n",
      "Average number of steps that took to reach the goal: nan\n",
      "\n",
      "*** RESULTS ***:\n",
      "Goals:     0/1000000 =  0.000%\n",
      "Holes: 1000000/1000000 = 1000000.000%\n",
      "mean reward:          0.00000\n",
      "mean goal steps:     0.00\n"
     ]
    }
   ],
   "source": [
    "policy3 = generate_random_policy(nA, nS, 100) # change seed to a specific number, or None (default)\n",
    "print (\"*** Policy ***\\n{}\".format(policy3))\n",
    "num_episodes = 10000\n",
    "\n",
    "goals3, holes3, total_rewards3, total_goal_steps3,goal_reached3 \\\n",
    "    = run_oneexperiment(env, policy3, num_episodes)\n",
    "\n",
    "percent_goal3= goals3 / num_episodes*num_experiments\n",
    "percent_hole3 = holes3 / num_episodes*num_experiments\n",
    "mean_reward3 = total_rewards3 / num_episodes*num_experiments\n",
    "mean_goal_steps3 = 0.0 if (goals3 == 0) else (total_goal_steps3 / goals3)\n",
    "\n",
    "print (\"\\n*** RESULTS ***:\\nGoals: {:>5d}/{} = {:>7.3%}\\nHoles: {:>5d}/{} = {:>7.3%}\"\n",
    "       .format(goals3, num_episodes, percent_goal3, holes3, num_episodes, percent_hole3))\n",
    "print(\"mean reward:          {:.5f}\\nmean goal steps:     {:.2f}\".format(mean_reward3, mean_goal_steps3))"
   ]
  },
  {
   "cell_type": "code",
   "execution_count": 37,
   "metadata": {
    "colab": {
     "base_uri": "https://localhost:8080/",
     "height": 295
    },
    "id": "iq6V2Ml96Bz5",
    "outputId": "ff1f3939-4584-4bf2-8285-592f152e2786",
    "pycharm": {
     "name": "#%%\n"
    }
   },
   "outputs": [
    {
     "data": {
      "image/png": "[encoded data removed]",
      "text/plain": [
       "<Figure size 432x288 with 1 Axes>"
      ]
     },
     "metadata": {
      "needs_background": "light"
     },
     "output_type": "display_data"
    }
   ],
   "source": [
    "# using matplotlib to create a histogram\n",
    "plt.hist(goal_reached3,bins=10, edgecolor = \"black\")\n",
    "\n",
    "# add labels and title to the histogram\n",
    "plt.xlabel('Number of episodes')#giving label for the x axis\n",
    "plt.ylabel('Frequency')#giving label for the y axis\n",
    "plt.title('Frequency of goal reached in 8x8 FrozenLake gymnasium over 100 experiments')#giving the title for the plot\n",
    "# display the histogram\n",
    "plt.show()"
   ]
  },
  {
   "cell_type": "markdown",
   "metadata": {
    "pycharm": {
     "name": "#%% md\n"
    }
   },
   "source": [
    "### Seed=200"
   ]
  },
  {
   "cell_type": "code",
   "execution_count": 21,
   "metadata": {
    "colab": {
     "base_uri": "https://localhost:8080/"
    },
    "id": "nWo1aAKE3xJQ",
    "outputId": "4715c5a1-6cb8-4bec-dee4-0f60ab1a271c",
    "pycharm": {
     "name": "#%%\n"
    }
   },
   "outputs": [
    {
     "name": "stdout",
     "output_type": "stream",
     "text": [
      "*** Policy ***\n",
      "[0 2 0 2 1 0 2 0 3 2 1 2 1 2 1 1 2 0 2 1 1 1 2 0 2 0 0 3 3 2 3 0 2 0 3 1 0\n",
      " 2 3 3 0 0 2 1 0 3 3 3 3 2 2 1 2 2 2 0 3 2 2 0 3 1 2 2]\n",
      "Mean successful runs: 0.0\n",
      "Standard deviation of successful runs: 0.0\n",
      "Average number of steps that took to reach the goal: nan\n",
      "\n",
      "*** RESULTS ***:\n",
      "Goals:     0/1000000 =  0.000%\n",
      "Holes: 1000000/1000000 = 1000000.000%\n",
      "mean reward:          0.00000\n",
      "mean goal steps:     0.00\n"
     ]
    }
   ],
   "source": [
    "policy4 = generate_random_policy(nA, nS, 200) # change seed to a specific number, or None (default)\n",
    "print (\"*** Policy ***\\n{}\".format(policy4))\n",
    "num_episodes = 10000\n",
    "\n",
    "goals4, holes4, total_rewards4, total_goal_steps4,goal_reached4 \\\n",
    "    = run_oneexperiment(env, policy4, num_episodes)\n",
    "\n",
    "percent_goal4 = goals4 / num_episodes*num_experiments\n",
    "percent_hole4 = holes4 / num_episodes*num_experiments\n",
    "mean_reward4 = total_rewards4 / num_episodes*num_experiments\n",
    "mean_goal_steps4 = 0.0 if (goals4 == 0) else (total_goal_steps4 / goals4)\n",
    "\n",
    "print (\"\\n*** RESULTS ***:\\nGoals: {:>5d}/{} = {:>7.3%}\\nHoles: {:>5d}/{} = {:>7.3%}\"\n",
    "       .format(goals4, num_episodes, percent_goal4, holes4, num_episodes, percent_hole4))\n",
    "print(\"mean reward:          {:.5f}\\nmean goal steps:     {:.2f}\".format(mean_reward4, mean_goal_steps4))"
   ]
  },
  {
   "cell_type": "code",
   "execution_count": 36,
   "metadata": {
    "colab": {
     "base_uri": "https://localhost:8080/",
     "height": 295
    },
    "id": "KHLFYRfA6Dne",
    "outputId": "6df65bf9-f00a-4fe0-aebf-494d642dda3d",
    "pycharm": {
     "name": "#%%\n"
    }
   },
   "outputs": [
    {
     "data": {
      "image/png": "[encoded data removed]",
      "text/plain": [
       "<Figure size 432x288 with 1 Axes>"
      ]
     },
     "metadata": {
      "needs_background": "light"
     },
     "output_type": "display_data"
    }
   ],
   "source": [
    "# using matplotlib to create a histogram\n",
    "plt.hist(goal_reached4,bins=10, edgecolor = \"black\")\n",
    "\n",
    "# add labels and title to the histogram\n",
    "plt.xlabel('Number of episodes')#giving label for the x axis\n",
    "plt.ylabel('Frequency')#giving label for the y axis\n",
    "plt.title('Frequency of goal reached in 8x8 FrozenLake gymnasium over 100 experiments')#giving the title for the plot\n",
    "# display the histogram\n",
    "plt.show()"
   ]
  },
  {
   "cell_type": "markdown",
   "metadata": {
    "pycharm": {
     "name": "#%% md\n"
    }
   },
   "source": [
    "### Seed=500 "
   ]
  },
  {
   "cell_type": "code",
   "execution_count": 23,
   "metadata": {
    "colab": {
     "base_uri": "https://localhost:8080/"
    },
    "id": "U11Nxkfl3wXA",
    "outputId": "b4e3192f-d615-45c7-8fb7-ecc57b55f86f",
    "pycharm": {
     "name": "#%%\n"
    }
   },
   "outputs": [
    {
     "name": "stdout",
     "output_type": "stream",
     "text": [
      "*** Policy ***\n",
      "[2 2 1 3 1 2 0 1 0 1 3 3 0 1 2 3 3 1 0 0 1 1 1 3 0 2 2 2 3 1 1 3 2 1 1 3 0\n",
      " 0 3 1 1 1 2 2 2 1 3 1 2 0 0 0 3 1 0 1 1 1 1 2 1 3 2 3]\n",
      "Mean successful runs: 1e-06\n",
      "Standard deviation of successful runs: 0.0009999994999998736\n",
      "Average number of steps that took to reach the goal: 68.0\n",
      "\n",
      "*** RESULTS ***:\n",
      "Goals:     1/10000 =  1.000%\n",
      "Holes: 999999/10000 = 999999.000%\n",
      "mean reward:          99.34000\n",
      "mean goal steps:     67.00\n"
     ]
    }
   ],
   "source": [
    "policy5 = generate_random_policy(nA, nS, 500) # change seed to a specific number, or None (default)\n",
    "print (\"*** Policy ***\\n{}\".format(policy5))\n",
    "num_episodes = 10000\n",
    "\n",
    "goals5, holes5, total_rewards5, total_goal_steps5,goal_reached5 \\\n",
    "    = run_oneexperiment(env, policy5, num_episodes)\n",
    "\n",
    "percent_goal5 = goals5 / num_episodes*num_experiments\n",
    "percent_hole5 = holes5 / num_episodes*num_experiments\n",
    "mean_reward5 = total_rewards5 / num_episodes*num_experiments\n",
    "mean_goal_steps5 = 0.0 if (goals5 == 0) else (total_goal_steps5 / goals5)\n",
    "\n",
    "print (\"\\n*** RESULTS ***:\\nGoals: {:>5d}/{} = {:>7.3%}\\nHoles: {:>5d}/{} = {:>7.3%}\"\n",
    "       .format(goals5, num_episodes, percent_goal5, holes5, num_episodes, percent_hole5))\n",
    "print(\"mean reward:          {:.5f}\\nmean goal steps:     {:.2f}\".format(mean_reward5, mean_goal_steps5))"
   ]
  },
  {
   "cell_type": "code",
   "execution_count": 35,
   "metadata": {
    "colab": {
     "base_uri": "https://localhost:8080/",
     "height": 295
    },
    "id": "P7zESmhT6H_c",
    "outputId": "e5d76749-9501-4eff-f1f3-ae4a1f881401",
    "pycharm": {
     "name": "#%%\n"
    }
   },
   "outputs": [
    {
     "data": {
      "image/png": "[encoded data removed]",
      "text/plain": [
       "<Figure size 432x288 with 1 Axes>"
      ]
     },
     "metadata": {
      "needs_background": "light"
     },
     "output_type": "display_data"
    }
   ],
   "source": [
    "# using matplotlib to create a histogram\n",
    "plt.hist(goal_reached5,bins=10, edgecolor = \"black\")\n",
    "\n",
    "# add labels and title to the histogram\n",
    "plt.xlabel('Number of episodes')#giving label for the x axis\n",
    "plt.ylabel('Frequency')#giving label for the y axis\n",
    "plt.title('Frequency of goal reached in 8x8 FrozenLake gymnasium over 100 experiments')#giving the title for the plot\n",
    "# display the histogram\n",
    "plt.show()"
   ]
  },
  {
   "cell_type": "markdown",
   "metadata": {
    "pycharm": {
     "name": "#%% md\n"
    }
   },
   "source": [
    "## Value Iteration Function"
   ]
  },
  {
   "cell_type": "code",
   "execution_count": null,
   "metadata": {
    "id": "zffqj0tydwdT",
    "pycharm": {
     "name": "#%%\n"
    }
   },
   "outputs": [],
   "source": [
    "#value iteration policy\n",
    "P=env.P# initializing P from the environment\n",
    "def value_iteration(P, nS, nA, gamma=1.0, theta=1e-3):#the arguments passed are P from env nS and nA from before as number of states and actions respectively also the discount factor and theta\n",
    "\n",
    "    value_function = np.zeros(nS)#initializing a list for value function with zeros for the length of number of states\n",
    "    policy = np.zeros(nS, dtype=int)#initializing a list for policy with zeros for the length of number of states\n",
    "\n",
    "    # Value iteration is like policy iteration, except estimation of the value function is done by maximizing over actions\n",
    "    # After the value function converges, one step is done that find the action that maximizes reward\n",
    "\n",
    "    error = 1 # initializing the delta to compare it with theta\n",
    "    # Iterate value function, find optimal\n",
    "    while error > theta:\n",
    "        new_value_function = np.zeros(nS)# initializing an array of zeroes for new value function\n",
    "        for s in range(nS):# s is for states\n",
    "            Qs = np.zeros(nA)# initializing an array to calculate value function\n",
    "            for a in range(nA):# a is for actions\n",
    "                transitions = P[s][a]# storing the probabilities in a variable\n",
    "                for transition in transitions:# initializing a loop\n",
    "                    prob, nextS, reward, term = transition# assigning variables from the probabilities \n",
    "                    Qs[a] += prob*(reward + gamma*value_function[nextS])# implementing the state value update\n",
    "            new_value_function[s] = max(Qs)#storing the maximum of calculated in the new value function\n",
    "        diff_vf = new_value_function-value_function# calculating the difference\n",
    "        value_function = new_value_function# updating the value function\n",
    "        error = np.linalg.norm(diff_vf)# updating the error\n",
    "\n",
    "    # Get policy from value function\n",
    "    for s in range(nS):# s is for states\n",
    "        Qs = np.zeros(nA)# initializing an array to calculate optimal policy\n",
    "        for a in range(nA):# a is for actions\n",
    "            transitions = P[s][a]# storing the probabilities in a variable\n",
    "            for transition in transitions:# initializing a loop\n",
    "                prob, nextS, reward, term = transition# assigning variables from the probabilities\n",
    "                Qs[a] += prob*(reward + gamma*value_function[nextS])# implementing the state value update\n",
    "            max_as = np.where(Qs==Qs.max())#storing the maximum value\n",
    "            max_as = max_as[0]#updating the max\n",
    "        policy[s] = max_as[0]#updating the policy\n",
    "\n",
    "\n",
    "    return value_function, policy #returning the calculated V(s) and policy"
   ]
  },
  {
   "cell_type": "markdown",
   "metadata": {
    "pycharm": {
     "name": "#%% md\n"
    }
   },
   "source": [
    "## Part 2\n",
    "### gamma=1.0, theta=1e-3"
   ]
  },
  {
   "cell_type": "code",
   "execution_count": 49,
   "metadata": {
    "colab": {
     "base_uri": "https://localhost:8080/"
    },
    "id": "s78PpbMh1HbJ",
    "outputId": "f83d4b4c-b308-40d2-9e93-e863a1829447",
    "pycharm": {
     "name": "#%%\n"
    }
   },
   "outputs": [
    {
     "name": "stdout",
     "output_type": "stream",
     "text": [
      "*** Policy ***\n",
      "[3 2 2 2 2 2 2 2 3 3 3 3 3 3 3 2 0 0 0 0 2 3 3 2 0 0 0 1 0 0 2 2 0 3 0 0 2\n",
      " 1 3 2 0 0 0 1 3 0 0 2 0 0 1 0 0 0 0 2 0 1 0 0 1 2 1 0]\n",
      "*** Converged V(s) table ***\n",
      "[0.99233504 0.99267    0.9931538  0.9936812  0.99421294 0.99472148\n",
      " 0.99517613 0.99550887 0.99225148 0.99250653 0.99292559 0.9934256\n",
      " 0.99395733 0.99449751 0.99505422 0.99570516 0.98714692 0.96620417\n",
      " 0.91601613 0.         0.85107703 0.94087111 0.97726936 0.99608915\n",
      " 0.98257085 0.91945431 0.78935145 0.46925266 0.61863752 0.\n",
      " 0.94082643 0.99664406 0.97869199 0.81019774 0.53306039 0.\n",
      " 0.53579015 0.60815637 0.84873104 0.99734564 0.97565232 0.\n",
      " 0.         0.1664103  0.38072402 0.44007424 0.         0.99816323\n",
      " 0.97356251 0.         0.18939679 0.11857214 0.         0.33143327\n",
      " 0.         0.9990611  0.97249835 0.71075867 0.44982162 0.\n",
      " 0.27712577 0.55426567 0.77712577 0.        ]\n",
      "Mean successful runs: 0.0001\n",
      "Standard deviation of successful runs: 0.009999499987499386\n",
      "Average number of steps that took to reach the goal: 127.6\n",
      "\n",
      "*** RESULTS ***:\n",
      "Goals:   100/10000 = 100.000%\n",
      "Holes: 999900/10000 = 999900.000%\n",
      "mean reward:          9874.40000\n",
      "mean goal steps:     126.60\n"
     ]
    }
   ],
   "source": [
    "value,policy = value_iteration(P, nS, nA, gamma=1.0, theta=1e-3)\n",
    "print (\"*** Policy ***\\n{}\".format(policy))\n",
    "print (\"*** Converged V(s) table ***\\n{}\".format(value))\n",
    "num_episodes = 10000\n",
    "\n",
    "goals, holes, total_rewards, total_goal_steps,goal_reached \\\n",
    "    = run_oneexperiment(env, policy, num_episodes)\n",
    "\n",
    "percent_goal = goals / num_episodes*num_experiments\n",
    "percent_hole = holes / num_episodes*num_experiments\n",
    "mean_reward = total_rewards / num_episodes*num_experiments\n",
    "mean_goal_steps = 0.0 if (goals == 0) else (total_goal_steps / goals)\n",
    "\n",
    "print (\"\\n*** RESULTS ***:\\nGoals: {:>5d}/{} = {:>7.3%}\\nHoles: {:>5d}/{} = {:>7.3%}\"\n",
    "       .format(goals, num_episodes, percent_goal, holes, num_episodes, percent_hole))\n",
    "print(\"mean reward:          {:.5f}\\nmean goal steps:     {:.2f}\".format(mean_reward, mean_goal_steps))"
   ]
  },
  {
   "cell_type": "code",
   "execution_count": 50,
   "metadata": {
    "colab": {
     "base_uri": "https://localhost:8080/",
     "height": 295
    },
    "id": "egEb-MKdABZG",
    "outputId": "b3ad06fa-be84-45be-e5b1-e5d5f968ea58",
    "pycharm": {
     "name": "#%%\n"
    }
   },
   "outputs": [
    {
     "data": {
      "image/png": "[encoded data removed]",
      "text/plain": [
       "<Figure size 432x288 with 1 Axes>"
      ]
     },
     "metadata": {
      "needs_background": "light"
     },
     "output_type": "display_data"
    }
   ],
   "source": [
    "# using matplotlib to create a histogram\n",
    "plt.hist(goal_reached,bins=10, edgecolor = \"black\")\n",
    "\n",
    "# add labels and title to the histogram\n",
    "plt.xlabel('Number of episodes')#giving label for the x axis\n",
    "plt.ylabel('Frequency')#giving label for the y axis\n",
    "plt.title('Frequency of goal reached in 8x8 FrozenLake gymnasium over 100 experiments')#giving the title for the plot\n",
    "# display the histogram\n",
    "plt.show()"
   ]
  },
  {
   "cell_type": "markdown",
   "metadata": {
    "pycharm": {
     "name": "#%% md\n"
    }
   },
   "source": [
    "###  gamma=1.0, theta=1e-4"
   ]
  },
  {
   "cell_type": "code",
   "execution_count": 52,
   "metadata": {
    "colab": {
     "base_uri": "https://localhost:8080/"
    },
    "id": "EAWjHqQ8CWBx",
    "outputId": "e5b1027a-f32d-4957-edf4-289ce7394e40",
    "pycharm": {
     "name": "#%%\n"
    }
   },
   "outputs": [
    {
     "name": "stdout",
     "output_type": "stream",
     "text": [
      "*** Policy ***\n",
      "[3 2 2 2 2 2 2 2 3 3 3 3 3 3 3 2 0 0 0 0 2 3 3 2 0 0 0 1 0 0 2 2 0 3 0 0 2\n",
      " 1 3 2 0 0 0 1 3 0 0 2 0 0 1 0 0 0 0 2 0 1 0 0 1 2 1 0]\n",
      "*** Converged V(s) table ***\n",
      "[0.99936753 0.99939517 0.9994351  0.99947862 0.9995225  0.99956446\n",
      " 0.99960198 0.99962943 0.99936064 0.99938168 0.99941627 0.99945753\n",
      " 0.9995014  0.99954598 0.99959192 0.99964563 0.99883211 0.97711777\n",
      " 0.92549914 0.         0.85614983 0.94578511 0.98167898 0.99967731\n",
      " 0.99835343 0.93318584 0.80000329 0.47438821 0.62318331 0.\n",
      " 0.94435755 0.9997231  0.99794439 0.82414646 0.54137107 0.\n",
      " 0.53903075 0.6109269  0.85168455 0.99978099 0.99762189 0.\n",
      " 0.         0.16788848 0.38299548 0.44207674 0.         0.99984845\n",
      " 0.99739921 0.         0.19415037 0.12067642 0.         0.33231612\n",
      " 0.         0.99992253 0.99728553 0.72949795 0.46179657 0.\n",
      " 0.277437   0.5548753  0.777437   0.        ]\n",
      "Mean successful runs: 0.0001\n",
      "Standard deviation of successful runs: 0.009999499987499386\n",
      "Average number of steps that took to reach the goal: 127.43\n",
      "\n",
      "*** RESULTS ***:\n",
      "Goals:   100/10000 = 100.000%\n",
      "Holes: 999900/10000 = 999900.000%\n",
      "mean reward:          9874.57000\n",
      "mean goal steps:     126.43\n"
     ]
    }
   ],
   "source": [
    "value6,policy6 = value_iteration(P, nS, nA, gamma=1.0, theta=1e-4)\n",
    "print (\"*** Policy ***\\n{}\".format(policy6))\n",
    "print (\"*** Converged V(s) table ***\\n{}\".format(value6))\n",
    "num_episodes = 10000\n",
    "\n",
    "goals6, holes6, total_rewards6, total_goal_steps6,goal_reached6 \\\n",
    "    = run_oneexperiment(env, policy6, num_episodes)\n",
    "\n",
    "percent_goal6 = goals6 / num_episodes*num_experiments\n",
    "percent_hole6 = holes6 / num_episodes*num_experiments\n",
    "mean_reward6 = total_rewards6 / num_episodes*num_experiments\n",
    "mean_goal_steps6 = 0.0 if (goals6 == 0) else (total_goal_steps6 / goals6)\n",
    "\n",
    "print (\"\\n*** RESULTS ***:\\nGoals: {:>5d}/{} = {:>7.3%}\\nHoles: {:>5d}/{} = {:>7.3%}\"\n",
    "       .format(goals6, num_episodes, percent_goal6, holes6, num_episodes, percent_hole6))\n",
    "print(\"mean reward:          {:.5f}\\nmean goal steps:     {:.2f}\".format(mean_reward6, mean_goal_steps6))"
   ]
  },
  {
   "cell_type": "code",
   "execution_count": 60,
   "metadata": {
    "colab": {
     "base_uri": "https://localhost:8080/",
     "height": 295
    },
    "id": "kmZx7UYdHNhY",
    "outputId": "bd93bd9a-ec4e-43cb-c3b5-02824b0379f2",
    "pycharm": {
     "name": "#%%\n"
    }
   },
   "outputs": [
    {
     "data": {
      "image/png": "[encoded data removed]",
      "text/plain": [
       "<Figure size 432x288 with 1 Axes>"
      ]
     },
     "metadata": {
      "needs_background": "light"
     },
     "output_type": "display_data"
    }
   ],
   "source": [
    "# using matplotlib to create a histogram\n",
    "plt.hist(goal_reached6,bins=10, edgecolor = \"black\")\n",
    "\n",
    "# add labels and title to the histogram\n",
    "plt.xlabel('Number of episodes')#giving label for the x axis\n",
    "plt.ylabel('Frequency')#giving label for the y axis\n",
    "plt.title('Frequency of goal reached in 8x8 FrozenLake gymnasium over 100 experiments')#giving the title for the plot\n",
    "# display the histogram\n",
    "plt.show()"
   ]
  },
  {
   "cell_type": "markdown",
   "metadata": {
    "pycharm": {
     "name": "#%% md\n"
    }
   },
   "source": [
    "### gamma=1.0, theta=1e-5"
   ]
  },
  {
   "cell_type": "code",
   "execution_count": 55,
   "metadata": {
    "colab": {
     "base_uri": "https://localhost:8080/"
    },
    "id": "RPhuAu4KCWef",
    "outputId": "6e77c51d-1a87-4948-a10c-b67a22be7959",
    "pycharm": {
     "name": "#%%\n"
    }
   },
   "outputs": [
    {
     "name": "stdout",
     "output_type": "stream",
     "text": [
      "*** Policy ***\n",
      "[3 2 2 2 2 2 2 2 3 3 3 3 3 3 3 2 0 0 0 0 2 3 3 2 0 0 0 1 0 0 2 2 0 3 0 0 2\n",
      " 1 3 2 0 0 0 1 3 0 0 2 0 0 1 0 0 0 0 2 0 1 0 0 1 2 1 0]\n",
      "*** Converged V(s) table ***\n",
      "[0.99994131 0.99994388 0.99994758 0.99995162 0.99995569 0.99995959\n",
      " 0.99996307 0.99996562 0.99994067 0.99994263 0.99994584 0.99994966\n",
      " 0.99995374 0.99995787 0.99996213 0.99996712 0.99988743 0.97809738\n",
      " 0.92634127 0.         0.85657386 0.94619004 0.98204021 0.99997006\n",
      " 0.99983905 0.93446661 0.80098446 0.47485401 0.62357972 0.\n",
      " 0.94464783 0.99997431 0.9997976  0.82546936 0.54215006 0.\n",
      " 0.53931309 0.61116444 0.85193028 0.99997968 0.99976487 0.\n",
      " 0.         0.16802597 0.38319639 0.44225103 0.         0.99998594\n",
      " 0.99974224 0.         0.19462149 0.12088216 0.         0.33239306\n",
      " 0.         0.99999281 0.99973068 0.73135322 0.46298454 0.\n",
      " 0.27746419 0.5549285  0.77746419 0.        ]\n",
      "Mean successful runs: 0.0001\n",
      "Standard deviation of successful runs: 0.009999499987499386\n",
      "Average number of steps that took to reach the goal: 128.99\n",
      "\n",
      "*** RESULTS ***:\n",
      "Goals:   100/10000 = 100.000%\n",
      "Holes: 999900/10000 = 999900.000%\n",
      "mean reward:          9873.01000\n",
      "mean goal steps:     127.99\n"
     ]
    }
   ],
   "source": [
    "value7,policy7 = value_iteration(P, nS, nA, gamma=1.0, theta=1e-5)\n",
    "print (\"*** Policy ***\\n{}\".format(policy7))\n",
    "print (\"*** Converged V(s) table ***\\n{}\".format(value7))\n",
    "num_episodes = 10000\n",
    "\n",
    "goals7, holes7, total_rewards7, total_goal_steps7,goal_reached7 \\\n",
    "    = run_oneexperiment(env, policy7, num_episodes)\n",
    "\n",
    "percent_goal7 = goals7 / num_episodes*num_experiments\n",
    "percent_hole7 = holes7 / num_episodes*num_experiments\n",
    "mean_reward7 = total_rewards7 / num_episodes*num_experiments\n",
    "mean_goal_steps7 = 0.0 if (goals7 == 0) else (total_goal_steps7 / goals7)\n",
    "\n",
    "print (\"\\n*** RESULTS ***:\\nGoals: {:>5d}/{} = {:>7.3%}\\nHoles: {:>5d}/{} = {:>7.3%}\"\n",
    "       .format(goals7, num_episodes, percent_goal7, holes7, num_episodes, percent_hole7))\n",
    "print(\"mean reward:          {:.5f}\\nmean goal steps:     {:.2f}\".format(mean_reward7, mean_goal_steps7))"
   ]
  },
  {
   "cell_type": "code",
   "execution_count": 61,
   "metadata": {
    "colab": {
     "base_uri": "https://localhost:8080/",
     "height": 295
    },
    "id": "Rr22wEdFHRZp",
    "outputId": "df338bc4-c505-4907-feab-9f8efe1dc18c",
    "pycharm": {
     "name": "#%%\n"
    }
   },
   "outputs": [
    {
     "data": {
      "image/png": "[encoded data removed]",
      "text/plain": [
       "<Figure size 432x288 with 1 Axes>"
      ]
     },
     "metadata": {
      "needs_background": "light"
     },
     "output_type": "display_data"
    }
   ],
   "source": [
    "# using matplotlib to create a histogram\n",
    "plt.hist(goal_reached7,bins=10, edgecolor = \"black\")\n",
    "\n",
    "# add labels and title to the histogram\n",
    "plt.xlabel('Number of episodes')#giving label for the x axis\n",
    "plt.ylabel('Frequency')#giving label for the y axis\n",
    "plt.title('Frequency of goal reached in 8x8 FrozenLake gymnasium over 100 experiments')#giving the title for the plot\n",
    "# display the histogram\n",
    "plt.show()"
   ]
  },
  {
   "cell_type": "markdown",
   "metadata": {
    "pycharm": {
     "name": "#%% md\n"
    }
   },
   "source": [
    "### gamma=0.98, theta=1e-3"
   ]
  },
  {
   "cell_type": "code",
   "execution_count": 56,
   "metadata": {
    "colab": {
     "base_uri": "https://localhost:8080/"
    },
    "id": "jAYgnplzCWzh",
    "outputId": "e7abfc9b-4d5e-4b23-8dca-888620f87f80",
    "pycharm": {
     "name": "#%%\n"
    }
   },
   "outputs": [
    {
     "name": "stdout",
     "output_type": "stream",
     "text": [
      "*** Policy ***\n",
      "[3 2 2 2 2 2 2 2 3 3 3 3 3 2 2 1 3 3 0 0 2 3 2 1 3 3 3 1 0 0 2 2 3 3 0 0 2\n",
      " 1 3 2 0 0 0 1 3 0 0 2 0 0 1 0 0 0 0 2 0 1 0 0 1 1 1 0]\n",
      "*** Converged V(s) table ***\n",
      "[0.21287434 0.22646383 0.24727233 0.27223637 0.30004541 0.32797537\n",
      " 0.34714412 0.35374826 0.20975596 0.22004417 0.23792424 0.26152128\n",
      " 0.29086331 0.32922478 0.36211843 0.37572606 0.19850181 0.19997382\n",
      " 0.19416721 0.         0.25880598 0.31806685 0.38596441 0.41263652\n",
      " 0.18124252 0.17564392 0.15699241 0.11120505 0.18366382 0.\n",
      " 0.40705141 0.46484244 0.15540689 0.13961228 0.09679253 0.\n",
      " 0.19248213 0.2581864  0.39551952 0.54574878 0.13145928 0.\n",
      " 0.         0.05685794 0.14757281 0.20254284 0.         0.66026383\n",
      " 0.11620149 0.         0.02450096 0.02655219 0.         0.21438817\n",
      " 0.         0.81534098 0.10877929 0.07607022 0.04860653 0.\n",
      " 0.22015445 0.45378774 0.71520395 0.        ]\n",
      "Mean successful runs: 8.9e-05\n",
      "Standard deviation of successful runs: 0.009433561310554986\n",
      "Average number of steps that took to reach the goal: 81.53932584269663\n",
      "\n",
      "*** RESULTS ***:\n",
      "Goals:    89/10000 = 89.000%\n",
      "Holes: 999911/10000 = 999911.000%\n",
      "mean reward:          8829.21000\n",
      "mean goal steps:     142.25\n"
     ]
    }
   ],
   "source": [
    "value8,policy8= value_iteration(P, nS, nA, gamma=0.98, theta=1e-3)\n",
    "print (\"*** Policy ***\\n{}\".format(policy8))\n",
    "print (\"*** Converged V(s) table ***\\n{}\".format(value8))\n",
    "\n",
    "goals8, holes8, total_rewards8, total_goal_steps8,goal_reached8 \\\n",
    "    = run_oneexperiment(env, policy8, num_episodes)\n",
    "\n",
    "percent_goal8 = goals8 / num_episodes*num_experiments\n",
    "percent_hole8 = holes8 / num_episodes*num_experiments\n",
    "mean_reward8 = total_rewards8 / num_episodes*num_experiments\n",
    "mean_goal_steps8 = 0.0 if (goals8 == 0) else (total_goal_steps / goals8)\n",
    "\n",
    "print (\"\\n*** RESULTS ***:\\nGoals: {:>5d}/{} = {:>7.3%}\\nHoles: {:>5d}/{} = {:>7.3%}\"\n",
    "       .format(goals8, num_episodes, percent_goal8, holes8, num_episodes, percent_hole8))\n",
    "print(\"mean reward:          {:.5f}\\nmean goal steps:     {:.2f}\".format(mean_reward8, mean_goal_steps8))"
   ]
  },
  {
   "cell_type": "code",
   "execution_count": 62,
   "metadata": {
    "colab": {
     "base_uri": "https://localhost:8080/",
     "height": 295
    },
    "id": "m-9nswGlHU7l",
    "outputId": "f94c1d47-d03c-448e-c09f-23af225882ab",
    "pycharm": {
     "name": "#%%\n"
    }
   },
   "outputs": [
    {
     "data": {
      "image/png": "[encoded data removed]",
      "text/plain": [
       "<Figure size 432x288 with 1 Axes>"
      ]
     },
     "metadata": {
      "needs_background": "light"
     },
     "output_type": "display_data"
    }
   ],
   "source": [
    "# using matplotlib to create a histogram\n",
    "plt.hist(goal_reached8,bins=10, edgecolor = \"black\")\n",
    "\n",
    "# add labels and title to the histogram\n",
    "plt.xlabel('Number of episodes')#giving label for the x axis\n",
    "plt.ylabel('Frequency')#giving label for the y axis\n",
    "plt.title('Frequency of goal reached in 8x8 FrozenLake gymnasium over 100 experiments')#giving the title for the plot\n",
    "# display the histogram\n",
    "plt.show()"
   ]
  },
  {
   "cell_type": "markdown",
   "metadata": {
    "pycharm": {
     "name": "#%% md\n"
    }
   },
   "source": [
    "###  gamma=1.0, theta=1e-15"
   ]
  },
  {
   "cell_type": "code",
   "execution_count": 59,
   "metadata": {
    "colab": {
     "base_uri": "https://localhost:8080/"
    },
    "id": "SWAYh9MVCXTC",
    "outputId": "350d6574-5556-4274-e31d-59a28f28d33f",
    "pycharm": {
     "name": "#%%\n"
    }
   },
   "outputs": [
    {
     "name": "stdout",
     "output_type": "stream",
     "text": [
      "*** Policy ***\n",
      "[1 2 2 1 2 2 2 2 3 3 3 3 3 3 3 2 0 0 0 0 2 3 3 2 0 0 0 1 0 0 2 2 0 3 0 0 2\n",
      " 1 3 2 0 0 0 1 3 0 0 2 0 0 1 0 0 0 0 2 0 1 0 0 1 2 1 0]\n",
      "*** Converged V(s) table ***\n",
      "[1.         1.         1.         1.         1.         1.\n",
      " 1.         1.         1.         1.         1.         1.\n",
      " 1.         1.         1.         1.         1.         0.97820163\n",
      " 0.92643052 0.         0.85661768 0.94623163 0.98207721 1.\n",
      " 1.         0.9346049  0.80108992 0.47490377 0.6236214  0.\n",
      " 0.94467761 1.         1.         0.82561308 0.54223433 0.\n",
      " 0.53934275 0.61118923 0.85195561 1.         1.         0.\n",
      " 0.         0.16804079 0.38321763 0.44226934 0.         1.\n",
      " 1.         0.         0.19467347 0.12090475 0.         0.33240114\n",
      " 0.         1.         1.         0.73155782 0.46311564 0.\n",
      " 0.27746705 0.5549341  0.77746705 0.        ]\n",
      "Mean successful runs: 0.0001\n",
      "Standard deviation of successful runs: 0.009999499987499386\n",
      "Average number of steps that took to reach the goal: 122.81\n",
      "\n",
      "*** RESULTS ***:\n",
      "Goals:   100/10000 = 100.000%\n",
      "Holes: 999900/10000 = 999900.000%\n",
      "mean reward:          9879.19000\n",
      "mean goal steps:     121.81\n"
     ]
    }
   ],
   "source": [
    "value9,policy9 = value_iteration(P, nS, nA, gamma=1.0, theta=1e-15)\n",
    "print (\"*** Policy ***\\n{}\".format(policy9))\n",
    "print (\"*** Converged V(s) table ***\\n{}\".format(value9))\n",
    "\n",
    "goals9, holes9, total_rewards9, total_goal_steps9,goal_reached9 \\\n",
    "    = run_oneexperiment(env, policy9, num_episodes)\n",
    "\n",
    "percent_goal9 = goals9 / num_episodes*num_experiments\n",
    "percent_hole9 = holes9 / num_episodes*num_experiments\n",
    "mean_reward9 = total_rewards9 / num_episodes*num_experiments\n",
    "mean_goal_steps9 = 0.0 if (goals9 == 0) else (total_goal_steps9 / goals9)\n",
    "\n",
    "print (\"\\n*** RESULTS ***:\\nGoals: {:>5d}/{} = {:>7.3%}\\nHoles: {:>5d}/{} = {:>7.3%}\"\n",
    "       .format(goals9, num_episodes, percent_goal9, holes9, num_episodes, percent_hole9))\n",
    "print(\"mean reward:          {:.5f}\\nmean goal steps:     {:.2f}\".format(mean_reward9, mean_goal_steps9))"
   ]
  },
  {
   "cell_type": "code",
   "execution_count": 63,
   "metadata": {
    "colab": {
     "base_uri": "https://localhost:8080/",
     "height": 295
    },
    "id": "DiCp4f-1HZLG",
    "outputId": "c3e4b0ef-2b3b-4d76-c335-cdd8238b3d27",
    "pycharm": {
     "name": "#%%\n"
    }
   },
   "outputs": [
    {
     "data": {
      "image/png": "[encoded data removed]",
      "text/plain": [
       "<Figure size 432x288 with 1 Axes>"
      ]
     },
     "metadata": {
      "needs_background": "light"
     },
     "output_type": "display_data"
    }
   ],
   "source": [
    "# using matplotlib to create a histogram\n",
    "plt.hist(goal_reached9,bins=10, edgecolor = \"black\")\n",
    "\n",
    "# add labels and title to the histogram\n",
    "plt.xlabel('Number of episodes')#giving label for the x axis\n",
    "plt.ylabel('Frequency')#giving label for the y axis\n",
    "plt.title('Frequency of goal reached in 8x8 FrozenLake gymnasium over 100 experiments')#giving the title for the plot\n",
    "# display the histogram\n",
    "plt.show()"
   ]
  }
 ],
 "metadata": {
  "accelerator": "GPU",
  "colab": {
   "provenance": []
  },
  "gpuClass": "standard",
  "kernelspec": {
   "display_name": "Python 3",
   "language": "python",
   "name": "python3"
  },
  "language_info": {
   "codemirror_mode": {
    "name": "ipython",
    "version": 3
   },
   "file_extension": ".py",
   "mimetype": "text/x-python",
   "name": "python",
   "nbconvert_exporter": "python",
   "pygments_lexer": "ipython3",
   "version": "3.8.5"
  }
 },
 "nbformat": 4,
 "nbformat_minor": 1
}